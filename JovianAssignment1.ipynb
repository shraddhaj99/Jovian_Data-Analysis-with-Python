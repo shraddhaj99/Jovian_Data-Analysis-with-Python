{
 "cells": [
  {
   "cell_type": "markdown",
   "id": "3917cdde",
   "metadata": {},
   "source": [
    "# Problem 1 - Variables and Data Types"
   ]
  },
  {
   "cell_type": "code",
   "execution_count": 2,
   "id": "47bf1e02",
   "metadata": {},
   "outputs": [],
   "source": [
    "#Q1: Assign your name to the variable name.\n",
    "\n",
    "name = 'Shraddha'"
   ]
  },
  {
   "cell_type": "code",
   "execution_count": 4,
   "id": "b188740b",
   "metadata": {},
   "outputs": [],
   "source": [
    "#Q2: Assign your age (real or fake) to the variable age.\n",
    "\n",
    "age = 23"
   ]
  },
  {
   "cell_type": "code",
   "execution_count": 7,
   "id": "6da95316",
   "metadata": {},
   "outputs": [],
   "source": [
    "#Q3: Assign a boolean value to the variable has_android_phone.\n",
    "\n",
    "has_android_phone = True"
   ]
  },
  {
   "cell_type": "code",
   "execution_count": 8,
   "id": "b69b942e",
   "metadata": {},
   "outputs": [
    {
     "data": {
      "text/plain": [
       "('Shraddha', 23, True)"
      ]
     },
     "execution_count": 8,
     "metadata": {},
     "output_type": "execute_result"
    }
   ],
   "source": [
    "name, age, has_android_phone"
   ]
  },
  {
   "cell_type": "code",
   "execution_count": 10,
   "id": "4477ebd5",
   "metadata": {},
   "outputs": [],
   "source": [
    "#Q4: Create a dictionary person with keys \"Name\", \"Age\", \"HasAndroidPhone\" and values using the variables defined above.\n",
    "\n",
    "person = {'Name':\"Shraddha\", \n",
    "          'Age': 23,\n",
    "          'HasAndroidPhone' : True}"
   ]
  },
  {
   "cell_type": "code",
   "execution_count": 11,
   "id": "402ab131",
   "metadata": {},
   "outputs": [
    {
     "name": "stdout",
     "output_type": "stream",
     "text": [
      "Shraddha is aged 23, and owns an Android phone.\n"
     ]
    }
   ],
   "source": [
    "#Let's use the person dictionary to print a nice message.\n",
    "\n",
    "print(\"{} is aged {}, and owns an {}.\".format(\n",
    "    person[\"Name\"], \n",
    "    person[\"Age\"], \n",
    "    \"Android phone\" if person[\"HasAndroidPhone\"] else \"iPhone\"\n",
    "))"
   ]
  },
  {
   "cell_type": "code",
   "execution_count": 28,
   "id": "d55b130c",
   "metadata": {},
   "outputs": [
    {
     "name": "stdout",
     "output_type": "stream",
     "text": [
      "Name,Derek, <class 'str'>\n",
      "Age,25, <class 'int'>\n"
     ]
    }
   ],
   "source": [
    "#Q4b: Use a for loop to display the type of each value stored against each key in person.\n",
    "\n",
    "#Here's the expected output for the key \"Name\":\n",
    "#The key \"Name\" has the value \"Derek\" of the type \"<class 'str'>\"\n",
    "\n",
    "person1 = {\"Name\": \"Derek\", \"Age\": 25}\n",
    "\n",
    "for p,val in person1.items():\n",
    "    print(f'{p},{val}, {type(val)}')"
   ]
  },
  {
   "cell_type": "markdown",
   "id": "220f4afe",
   "metadata": {},
   "source": [
    "# Problem 2 - Working with Lists\n",
    "\n",
    "**Q5: Create a list containing the following 3 elements:**\n",
    "\n",
    "* your favorite color\n",
    "* the number of pets you have\n",
    "* a boolean value describing whether you have previous programming experience"
   ]
  },
  {
   "cell_type": "code",
   "execution_count": 29,
   "id": "bfea2f05",
   "metadata": {},
   "outputs": [],
   "source": [
    "p2 = ['blue', 0, True]"
   ]
  },
  {
   "cell_type": "code",
   "execution_count": 30,
   "id": "b79782f8",
   "metadata": {},
   "outputs": [
    {
     "data": {
      "text/plain": [
       "['blue', 0, True]"
      ]
     },
     "execution_count": 30,
     "metadata": {},
     "output_type": "execute_result"
    }
   ],
   "source": [
    "p2"
   ]
  },
  {
   "cell_type": "code",
   "execution_count": 31,
   "id": "6dffbb0f",
   "metadata": {},
   "outputs": [],
   "source": [
    "#**Q6: Complete the following `print` and `if` statements by accessing the appropriate elements from `my_list`.**\n",
    "\n",
    "#*Hint*: Use the list indexing notation `[]`."
   ]
  },
  {
   "cell_type": "code",
   "execution_count": 33,
   "id": "efb5c7b9",
   "metadata": {},
   "outputs": [
    {
     "name": "stdout",
     "output_type": "stream",
     "text": [
      "My favorite color is blue.\n"
     ]
    }
   ],
   "source": [
    "print(\"My favorite color is {}.\".format(p2[0]))"
   ]
  },
  {
   "cell_type": "code",
   "execution_count": 34,
   "id": "6097efb4",
   "metadata": {},
   "outputs": [
    {
     "name": "stdout",
     "output_type": "stream",
     "text": [
      "I have 0 pets\n"
     ]
    }
   ],
   "source": [
    "print(\"I have {} pets\".format(p2[1]))"
   ]
  },
  {
   "cell_type": "code",
   "execution_count": 35,
   "id": "5ec203e0",
   "metadata": {},
   "outputs": [
    {
     "name": "stdout",
     "output_type": "stream",
     "text": [
      "I have programming experience\n"
     ]
    }
   ],
   "source": [
    "if p2[2]:\n",
    "    print(\"I have programming experience\")\n",
    "else:\n",
    "    print(\"I do not have programming exp\")"
   ]
  },
  {
   "cell_type": "code",
   "execution_count": 39,
   "id": "5cb84d3c",
   "metadata": {},
   "outputs": [
    {
     "data": {
      "text/plain": [
       "0"
      ]
     },
     "execution_count": 39,
     "metadata": {},
     "output_type": "execute_result"
    }
   ],
   "source": [
    "#Q7: Add your favorite single digit number to the end of the list using the appropriate list method.\n",
    "\n",
    "p2[1]"
   ]
  },
  {
   "cell_type": "code",
   "execution_count": 44,
   "id": "da3c64ed",
   "metadata": {},
   "outputs": [
    {
     "data": {
      "text/plain": [
       "'blue'"
      ]
     },
     "execution_count": 44,
     "metadata": {},
     "output_type": "execute_result"
    }
   ],
   "source": [
    "#Q8: Remove the first element of the list, using the appropriate list method.\n",
    "#Hint: Check out methods of list here: https://www.w3schools.com/python/python_ref_list.asp\n",
    "\n",
    "p2.pop(0)"
   ]
  },
  {
   "cell_type": "code",
   "execution_count": 45,
   "id": "316ffcb7",
   "metadata": {},
   "outputs": [
    {
     "data": {
      "text/plain": [
       "[0, True]"
      ]
     },
     "execution_count": 45,
     "metadata": {},
     "output_type": "execute_result"
    }
   ],
   "source": [
    "p2"
   ]
  },
  {
   "cell_type": "code",
   "execution_count": 47,
   "id": "1bc612fb",
   "metadata": {},
   "outputs": [
    {
     "name": "stdout",
     "output_type": "stream",
     "text": [
      "The list has 2 elements.\n"
     ]
    }
   ],
   "source": [
    "print(\"The list has {} elements.\".format(len(p2)))"
   ]
  },
  {
   "cell_type": "markdown",
   "id": "bd25548a",
   "metadata": {},
   "source": [
    "# Problem 3 - Conditions and loops\n",
    "\n",
    "**Q10: Calculate and display the sum of all the numbers divisible by 7 between 18 and 534 i.e. `21+28+35+...+525+532`**.\n",
    "\n",
    "*Hint*: One way to do this is to loop over a `range` using `for` and use an `if` statement inside it."
   ]
  },
  {
   "cell_type": "code",
   "execution_count": null,
   "id": "548d5ced",
   "metadata": {},
   "outputs": [],
   "source": []
  },
  {
   "cell_type": "code",
   "execution_count": null,
   "id": "03d9cd62",
   "metadata": {},
   "outputs": [],
   "source": []
  },
  {
   "cell_type": "code",
   "execution_count": null,
   "id": "0e630a98",
   "metadata": {},
   "outputs": [],
   "source": []
  },
  {
   "cell_type": "code",
   "execution_count": null,
   "id": "30e5ee18",
   "metadata": {},
   "outputs": [],
   "source": []
  },
  {
   "cell_type": "code",
   "execution_count": null,
   "id": "e8855b27",
   "metadata": {},
   "outputs": [],
   "source": []
  }
 ],
 "metadata": {
  "kernelspec": {
   "display_name": "Python 3 (ipykernel)",
   "language": "python",
   "name": "python3"
  },
  "language_info": {
   "codemirror_mode": {
    "name": "ipython",
    "version": 3
   },
   "file_extension": ".py",
   "mimetype": "text/x-python",
   "name": "python",
   "nbconvert_exporter": "python",
   "pygments_lexer": "ipython3",
   "version": "3.10.6"
  }
 },
 "nbformat": 4,
 "nbformat_minor": 5
}
