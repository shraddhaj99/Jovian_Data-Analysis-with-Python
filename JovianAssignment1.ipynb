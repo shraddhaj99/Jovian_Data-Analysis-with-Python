{
 "cells": [
  {
   "cell_type": "markdown",
   "id": "3917cdde",
   "metadata": {},
   "source": [
    "# Problem 1 - Variables and Data Types"
   ]
  },
  {
   "cell_type": "code",
   "execution_count": 1,
   "id": "47bf1e02",
   "metadata": {},
   "outputs": [],
   "source": [
    "#Q1: Assign your name to the variable name.\n",
    "\n",
    "name = 'Shraddha'"
   ]
  },
  {
   "cell_type": "code",
   "execution_count": 2,
   "id": "b188740b",
   "metadata": {},
   "outputs": [],
   "source": [
    "#Q2: Assign your age (real or fake) to the variable age.\n",
    "\n",
    "age = 23"
   ]
  },
  {
   "cell_type": "code",
   "execution_count": 3,
   "id": "6da95316",
   "metadata": {},
   "outputs": [],
   "source": [
    "#Q3: Assign a boolean value to the variable has_android_phone.\n",
    "\n",
    "has_android_phone = True"
   ]
  },
  {
   "cell_type": "code",
   "execution_count": 4,
   "id": "b69b942e",
   "metadata": {},
   "outputs": [
    {
     "data": {
      "text/plain": [
       "('Shraddha', 23, True)"
      ]
     },
     "execution_count": 4,
     "metadata": {},
     "output_type": "execute_result"
    }
   ],
   "source": [
    "name, age, has_android_phone"
   ]
  },
  {
   "cell_type": "code",
   "execution_count": 5,
   "id": "4477ebd5",
   "metadata": {},
   "outputs": [],
   "source": [
    "#Q4: Create a dictionary person with keys \"Name\", \"Age\", \"HasAndroidPhone\" and values using the variables defined above.\n",
    "\n",
    "person = {'Name':\"Shraddha\", \n",
    "          'Age': 23,\n",
    "          'HasAndroidPhone' : True}"
   ]
  },
  {
   "cell_type": "code",
   "execution_count": 6,
   "id": "402ab131",
   "metadata": {},
   "outputs": [
    {
     "name": "stdout",
     "output_type": "stream",
     "text": [
      "Shraddha is aged 23, and owns an Android phone.\n"
     ]
    }
   ],
   "source": [
    "#Let's use the person dictionary to print a nice message.\n",
    "\n",
    "print(\"{} is aged {}, and owns an {}.\".format(\n",
    "    person[\"Name\"], \n",
    "    person[\"Age\"], \n",
    "    \"Android phone\" if person[\"HasAndroidPhone\"] else \"iPhone\"\n",
    "))"
   ]
  },
  {
   "cell_type": "code",
   "execution_count": 7,
   "id": "d55b130c",
   "metadata": {},
   "outputs": [
    {
     "name": "stdout",
     "output_type": "stream",
     "text": [
      "Name,Derek, <class 'str'>\n",
      "Age,25, <class 'int'>\n"
     ]
    }
   ],
   "source": [
    "#Q4b: Use a for loop to display the type of each value stored against each key in person.\n",
    "\n",
    "#Here's the expected output for the key \"Name\":\n",
    "#The key \"Name\" has the value \"Derek\" of the type \"<class 'str'>\"\n",
    "\n",
    "person1 = {\"Name\": \"Derek\", \"Age\": 25}\n",
    "\n",
    "for p,val in person1.items():\n",
    "    print(f'{p},{val}, {type(val)}')"
   ]
  },
  {
   "cell_type": "markdown",
   "id": "220f4afe",
   "metadata": {},
   "source": [
    "# Problem 2 - Working with Lists\n",
    "\n",
    "**Q5: Create a list containing the following 3 elements:**\n",
    "\n",
    "* your favorite color\n",
    "* the number of pets you have\n",
    "* a boolean value describing whether you have previous programming experience"
   ]
  },
  {
   "cell_type": "code",
   "execution_count": 8,
   "id": "bfea2f05",
   "metadata": {},
   "outputs": [],
   "source": [
    "p2 = ['blue', 0, True]"
   ]
  },
  {
   "cell_type": "code",
   "execution_count": 9,
   "id": "b79782f8",
   "metadata": {},
   "outputs": [
    {
     "data": {
      "text/plain": [
       "['blue', 0, True]"
      ]
     },
     "execution_count": 9,
     "metadata": {},
     "output_type": "execute_result"
    }
   ],
   "source": [
    "p2"
   ]
  },
  {
   "cell_type": "code",
   "execution_count": 10,
   "id": "6dffbb0f",
   "metadata": {},
   "outputs": [],
   "source": [
    "#**Q6: Complete the following `print` and `if` statements by accessing the appropriate elements from `my_list`.**\n",
    "\n",
    "#*Hint*: Use the list indexing notation `[]`."
   ]
  },
  {
   "cell_type": "code",
   "execution_count": 11,
   "id": "efb5c7b9",
   "metadata": {},
   "outputs": [
    {
     "name": "stdout",
     "output_type": "stream",
     "text": [
      "My favorite color is blue.\n"
     ]
    }
   ],
   "source": [
    "print(\"My favorite color is {}.\".format(p2[0]))"
   ]
  },
  {
   "cell_type": "code",
   "execution_count": 12,
   "id": "6097efb4",
   "metadata": {},
   "outputs": [
    {
     "name": "stdout",
     "output_type": "stream",
     "text": [
      "I have 0 pets\n"
     ]
    }
   ],
   "source": [
    "print(\"I have {} pets\".format(p2[1]))"
   ]
  },
  {
   "cell_type": "code",
   "execution_count": 13,
   "id": "5ec203e0",
   "metadata": {},
   "outputs": [
    {
     "name": "stdout",
     "output_type": "stream",
     "text": [
      "I have programming experience\n"
     ]
    }
   ],
   "source": [
    "if p2[2]:\n",
    "    print(\"I have programming experience\")\n",
    "else:\n",
    "    print(\"I do not have programming exp\")"
   ]
  },
  {
   "cell_type": "code",
   "execution_count": 14,
   "id": "5cb84d3c",
   "metadata": {},
   "outputs": [
    {
     "data": {
      "text/plain": [
       "0"
      ]
     },
     "execution_count": 14,
     "metadata": {},
     "output_type": "execute_result"
    }
   ],
   "source": [
    "#Q7: Add your favorite single digit number to the end of the list using the appropriate list method.\n",
    "\n",
    "p2[1]"
   ]
  },
  {
   "cell_type": "code",
   "execution_count": 15,
   "id": "da3c64ed",
   "metadata": {},
   "outputs": [
    {
     "data": {
      "text/plain": [
       "'blue'"
      ]
     },
     "execution_count": 15,
     "metadata": {},
     "output_type": "execute_result"
    }
   ],
   "source": [
    "#Q8: Remove the first element of the list, using the appropriate list method.\n",
    "#Hint: Check out methods of list here: https://www.w3schools.com/python/python_ref_list.asp\n",
    "\n",
    "p2.pop(0)"
   ]
  },
  {
   "cell_type": "code",
   "execution_count": 16,
   "id": "316ffcb7",
   "metadata": {},
   "outputs": [
    {
     "data": {
      "text/plain": [
       "[0, True]"
      ]
     },
     "execution_count": 16,
     "metadata": {},
     "output_type": "execute_result"
    }
   ],
   "source": [
    "p2"
   ]
  },
  {
   "cell_type": "code",
   "execution_count": 17,
   "id": "1bc612fb",
   "metadata": {},
   "outputs": [
    {
     "name": "stdout",
     "output_type": "stream",
     "text": [
      "The list has 2 elements.\n"
     ]
    }
   ],
   "source": [
    "print(\"The list has {} elements.\".format(len(p2)))"
   ]
  },
  {
   "cell_type": "markdown",
   "id": "bd25548a",
   "metadata": {},
   "source": [
    "# Problem 3 - Conditions and loops\n",
    "\n",
    "**Q10: Calculate and display the sum of all the numbers divisible by 7 between 18 and 534 i.e. `21+28+35+...+525+532`**.\n",
    "\n",
    "*Hint*: One way to do this is to loop over a `range` using `for` and use an `if` statement inside it."
   ]
  },
  {
   "cell_type": "code",
   "execution_count": 18,
   "id": "548d5ced",
   "metadata": {},
   "outputs": [
    {
     "name": "stdout",
     "output_type": "stream",
     "text": [
      "The numbers divisible by 7 between 18 and 534 are [21, 28, 35, 42, 49, 56, 63, 70, 77, 84, 91, 98, 105, 112, 119, 126, 133, 140, 147, 154, 161, 168, 175, 182, 189, 196, 203, 210, 217, 224, 231, 238, 245, 252, 259, 266, 273, 280, 287, 294, 301, 308, 315, 322, 329, 336, 343, 350, 357, 364, 371, 378, 385, 392, 399, 406, 413, 420, 427, 434, 441, 448, 455, 462, 469, 476, 483, 490, 497, 504, 511, 518, 525, 532]\n",
      "The sum of these numbers is 20461\n"
     ]
    }
   ],
   "source": [
    "Sum = 0\n",
    "a = []\n",
    "for i in range(18,534,1):\n",
    "    if i%7 == 0:\n",
    "        Sum += i\n",
    "        a.append(i)\n",
    "    \n",
    "print(\"The numbers divisible by 7 between 18 and 534 are {}\".format(a))\n",
    "print(\"The sum of these numbers is {}\".format(Sum))"
   ]
  },
  {
   "cell_type": "markdown",
   "id": "a1f6148f",
   "metadata": {},
   "source": [
    "## Problem 4 - Flying to the Bahamas\n",
    "\n",
    "**Q11: A travel company wants to fly a plane to the Bahamas. Flying the plane costs 5000 dollars. So far, 29 people have signed up for the trip. If the company charges 200 dollars per ticket, what is the profit made by the company?**\n",
    "\n",
    "Fill in values or arithmetic expressions for the variables below."
   ]
  },
  {
   "cell_type": "code",
   "execution_count": 19,
   "id": "0e630a98",
   "metadata": {},
   "outputs": [],
   "source": [
    "cost_of_flying_plane = 5000\n",
    "number_of_passengers = 29\n",
    "price_of_ticket = 200"
   ]
  },
  {
   "cell_type": "code",
   "execution_count": 20,
   "id": "c82fd04f",
   "metadata": {},
   "outputs": [
    {
     "data": {
      "text/plain": [
       "(5800, 800)"
      ]
     },
     "execution_count": 20,
     "metadata": {},
     "output_type": "execute_result"
    }
   ],
   "source": [
    "collected_fare = number_of_passengers*price_of_ticket\n",
    "profit = (number_of_passengers*price_of_ticket) - cost_of_flying_plane\n",
    "\n",
    "collected_fare, profit"
   ]
  },
  {
   "cell_type": "code",
   "execution_count": 21,
   "id": "30e5ee18",
   "metadata": {},
   "outputs": [
    {
     "name": "stdout",
     "output_type": "stream",
     "text": [
      "The company makes of a profit of 800 dollars\n"
     ]
    }
   ],
   "source": [
    "print('The company makes of a profit of {} dollars'.format(profit))"
   ]
  },
  {
   "cell_type": "markdown",
   "id": "8a85281d",
   "metadata": {},
   "source": [
    "**Q11b (Optional): Out of the 29 people who took the flight, only 12 buy tickets to return from the Bahamas on the same plane. If the flying the plane back also costs 5000 dollars, and does the company make an overall profit or loss? The company charges the same fee of 200 dollars per ticket for the return flight.**\n",
    "\n",
    "Use an `if` statement to display the result."
   ]
  },
  {
   "cell_type": "code",
   "execution_count": 22,
   "id": "a395aab4",
   "metadata": {},
   "outputs": [
    {
     "data": {
      "text/plain": [
       "2400"
      ]
     },
     "execution_count": 22,
     "metadata": {},
     "output_type": "execute_result"
    }
   ],
   "source": [
    "return_passengers = 12\n",
    "return_fare = return_passengers*price_of_ticket\n",
    "return_fare"
   ]
  },
  {
   "cell_type": "code",
   "execution_count": 23,
   "id": "6d7c015c",
   "metadata": {},
   "outputs": [
    {
     "data": {
      "text/plain": [
       "-2600"
      ]
     },
     "execution_count": 23,
     "metadata": {},
     "output_type": "execute_result"
    }
   ],
   "source": [
    "return_prof = return_fare - cost_of_flying_plane\n",
    "return_prof"
   ]
  },
  {
   "cell_type": "code",
   "execution_count": 24,
   "id": "3140daf6",
   "metadata": {},
   "outputs": [
    {
     "name": "stdout",
     "output_type": "stream",
     "text": [
      "The company makes an overall loss of -2600 dollars\n"
     ]
    }
   ],
   "source": [
    "# this is optional\n",
    "if cost_of_flying_plane<return_prof:\n",
    "    print(\"The company makes an overall profit of {} dollars\".format(return_prof))\n",
    "else:\n",
    "    print(\"The company makes an overall loss of {} dollars\".format(return_prof))"
   ]
  },
  {
   "cell_type": "markdown",
   "id": "d07f54f7",
   "metadata": {},
   "source": [
    "## Problem 5 - Twitter Sentiment Analysis\n",
    "\n",
    "Are your ready to perform some *Data Analysis with Python*? In this problem, we'll analyze some fictional tweets and find out whether the overall sentiment of Twitter users is happy or sad. This is a simplified version of an important real world problem called *sentiment analysis*.\n",
    "\n",
    "Before we begin, we need a list of tweets to analyze. We're picking a small number of tweets here, but the exact same analysis can also be done for thousands, or even millions of tweets. The collection of data that we perform analysis on is often called a *dataset*."
   ]
  },
  {
   "cell_type": "code",
   "execution_count": 25,
   "id": "98f367e6",
   "metadata": {},
   "outputs": [],
   "source": [
    "tweets = [\n",
    "    \"Wow, what a great day today!! #sunshine\",\n",
    "    \"I feel sad about the things going on around us. #covid19\",\n",
    "    \"I'm really excited to learn Python with @JovianML #zerotopandas\",\n",
    "    \"This is a really nice song. #linkinpark\",\n",
    "    \"The python programming language is useful for data science\",\n",
    "    \"Why do bad things happen to me?\",\n",
    "    \"Apple announces the release of the new iPhone 12. Fans are excited.\",\n",
    "    \"Spent my day with family!! #happy\",\n",
    "    \"Check out my blog post on common string operations in Python. #zerotopandas\",\n",
    "    \"Freecodecamp has great coding tutorials. #skillup\"\n",
    "]"
   ]
  },
  {
   "cell_type": "code",
   "execution_count": 26,
   "id": "961845e7",
   "metadata": {},
   "outputs": [
    {
     "data": {
      "text/plain": [
       "10"
      ]
     },
     "execution_count": 26,
     "metadata": {},
     "output_type": "execute_result"
    }
   ],
   "source": [
    "number_of_tweets = len(tweets)\n",
    "number_of_tweets"
   ]
  },
  {
   "cell_type": "code",
   "execution_count": 27,
   "id": "4664df27",
   "metadata": {},
   "outputs": [],
   "source": [
    "happy_words = ['great', 'excited', 'happy', 'nice', 'wonderful', 'amazing', 'good', 'best']"
   ]
  },
  {
   "cell_type": "code",
   "execution_count": 28,
   "id": "2f7b1ba7",
   "metadata": {},
   "outputs": [],
   "source": [
    "sad_words = ['sad', 'bad', 'tragic', 'unhappy', 'worst']"
   ]
  },
  {
   "cell_type": "code",
   "execution_count": 29,
   "id": "901d40e6",
   "metadata": {},
   "outputs": [],
   "source": [
    "sample_tweet = tweets[0]"
   ]
  },
  {
   "cell_type": "code",
   "execution_count": 30,
   "id": "bfb811ac",
   "metadata": {},
   "outputs": [
    {
     "data": {
      "text/plain": [
       "'Wow, what a great day today!! #sunshine'"
      ]
     },
     "execution_count": 30,
     "metadata": {},
     "output_type": "execute_result"
    }
   ],
   "source": [
    "sample_tweet"
   ]
  },
  {
   "cell_type": "code",
   "execution_count": 31,
   "id": "8db9ae8b",
   "metadata": {},
   "outputs": [],
   "source": [
    "is_tweet_happy = False\n",
    "\n",
    "# Get a word from happy_words\n",
    "for word in happy_words:\n",
    "    # Check if the tweet contains the word\n",
    "    if word in sample_tweet:\n",
    "        # Word found! Mark the tweet as happy\n",
    "        is_tweet_happy = True"
   ]
  },
  {
   "cell_type": "code",
   "execution_count": 32,
   "id": "068b49de",
   "metadata": {},
   "outputs": [
    {
     "data": {
      "text/plain": [
       "True"
      ]
     },
     "execution_count": 32,
     "metadata": {},
     "output_type": "execute_result"
    }
   ],
   "source": [
    "is_tweet_happy"
   ]
  },
  {
   "cell_type": "markdown",
   "id": "c65c48ae",
   "metadata": {},
   "source": [
    "**Q13: Determine the number of tweets in the dataset that can be classified as happy.**\n",
    "\n",
    "*Hint*: You'll need to use a loop inside another loop to do this. Use the code from the example shown above."
   ]
  },
  {
   "cell_type": "code",
   "execution_count": 33,
   "id": "a98abdb4",
   "metadata": {},
   "outputs": [],
   "source": [
    "is_tweet_happy = False\n",
    "\n",
    "# Get a word from happy_words\n",
    "for word in happy_words:\n",
    "    # Check if the tweet contains the word\n",
    "    if word in sample_tweet:\n",
    "        # Word found! Mark the tweet as happy\n",
    "        is_tweet_happy = True"
   ]
  },
  {
   "cell_type": "code",
   "execution_count": 44,
   "id": "a9451fa7",
   "metadata": {},
   "outputs": [],
   "source": [
    "# store the final answer in this variable\n",
    "number_of_happy_tweets = 0\n",
    "\n",
    "for word in happy_words:\n",
    "    for i in tweets:\n",
    "        if word in i:\n",
    "            number_of_happy_tweets+=1"
   ]
  },
  {
   "cell_type": "code",
   "execution_count": 45,
   "id": "22752e69",
   "metadata": {},
   "outputs": [
    {
     "data": {
      "text/plain": [
       "6"
      ]
     },
     "execution_count": 45,
     "metadata": {},
     "output_type": "execute_result"
    }
   ],
   "source": [
    "number_of_happy_tweets"
   ]
  },
  {
   "cell_type": "code",
   "execution_count": 46,
   "id": "c4450dbf",
   "metadata": {},
   "outputs": [
    {
     "name": "stdout",
     "output_type": "stream",
     "text": [
      "Number of happy tweets: 6\n"
     ]
    }
   ],
   "source": [
    "print(\"Number of happy tweets:\", number_of_happy_tweets)"
   ]
  },
  {
   "cell_type": "markdown",
   "id": "8ff04e1c",
   "metadata": {},
   "source": [
    "**Q14: What fraction of the total number of tweets are happy?**\n",
    "\n",
    "For example, if 2 out of 10 tweets are happy, then the answer is `2/10` i.e. `0.2`."
   ]
  },
  {
   "cell_type": "code",
   "execution_count": 47,
   "id": "8c6a311b",
   "metadata": {},
   "outputs": [],
   "source": [
    "happy_fraction = number_of_happy_tweets/number_of_tweets"
   ]
  },
  {
   "cell_type": "code",
   "execution_count": 48,
   "id": "ec96b19c",
   "metadata": {},
   "outputs": [
    {
     "name": "stdout",
     "output_type": "stream",
     "text": [
      "The fraction of happy tweets is: 0.6\n"
     ]
    }
   ],
   "source": [
    "print(\"The fraction of happy tweets is:\", happy_fraction)"
   ]
  },
  {
   "cell_type": "markdown",
   "id": "2cceb24b",
   "metadata": {},
   "source": [
    "To identify whether a tweet is sad, we can simply check if contains any of the words from `sad_words`.\n",
    "\n",
    "**Q15: Determine the number of tweets in the dataset that can be classified as sad.**"
   ]
  },
  {
   "cell_type": "code",
   "execution_count": 49,
   "id": "47454055",
   "metadata": {},
   "outputs": [],
   "source": [
    "number_of_sad_tweets = 0\n",
    "\n",
    "for word in sad_words:\n",
    "    for i in tweets:\n",
    "        if word in i:\n",
    "            number_of_sad_tweets+=1"
   ]
  },
  {
   "cell_type": "code",
   "execution_count": 50,
   "id": "ef1236b1",
   "metadata": {},
   "outputs": [
    {
     "name": "stdout",
     "output_type": "stream",
     "text": [
      "Number of sad tweets: 2\n"
     ]
    }
   ],
   "source": [
    "print(\"Number of sad tweets:\", number_of_sad_tweets)"
   ]
  },
  {
   "cell_type": "markdown",
   "id": "19c68f9a",
   "metadata": {},
   "source": [
    "**Q16: What fraction of the total number of tweets are sad?**"
   ]
  },
  {
   "cell_type": "code",
   "execution_count": 51,
   "id": "42ee1b3a",
   "metadata": {},
   "outputs": [],
   "source": [
    "sad_fraction = number_of_sad_tweets/number_of_tweets"
   ]
  },
  {
   "cell_type": "code",
   "execution_count": 52,
   "id": "020e5c43",
   "metadata": {},
   "outputs": [
    {
     "name": "stdout",
     "output_type": "stream",
     "text": [
      "The fraction of sad tweets is: 0.2\n"
     ]
    }
   ],
   "source": [
    "print(\"The fraction of sad tweets is:\", sad_fraction)"
   ]
  },
  {
   "cell_type": "markdown",
   "id": "5328d84a",
   "metadata": {},
   "source": [
    "Great work, even with some basic analysis, we already know a lot about the sentiment of the tweets given to us. Let us now define a metric called \"sentiment score\", to summarize the overall sentiment of the tweets.\n",
    "\n",
    "Sentiment Score = (number of postive words - number of negative words) / total number of words\n",
    "\n",
    "**Q16b (Optional): Calculate the sentiment score, which is defined as the difference betweek the fraction of happy tweets and the fraction of sad tweets.**"
   ]
  },
  {
   "cell_type": "code",
   "execution_count": 53,
   "id": "26a2adff",
   "metadata": {},
   "outputs": [],
   "source": [
    "sentiment_score = (number_of_happy_tweets-number_of_sad_tweets)/number_of_tweets"
   ]
  },
  {
   "cell_type": "code",
   "execution_count": 54,
   "id": "e6dcd9a9",
   "metadata": {},
   "outputs": [
    {
     "name": "stdout",
     "output_type": "stream",
     "text": [
      "The sentiment score for the given tweets is 0.4\n"
     ]
    }
   ],
   "source": [
    "print(\"The sentiment score for the given tweets is\", sentiment_score)"
   ]
  },
  {
   "cell_type": "markdown",
   "id": "dafc0bd8",
   "metadata": {},
   "source": [
    "In a real world scenario, we could calculate & record the sentiment score for all the tweets sent out every day. This information can be used to plot a graph and study the trends in the changing sentiment of the world. The following graph was creating using the Python data visualization library `matplotlib`, which we'll cover later in the course.\n",
    "\n",
    "<img src=\"https://i.imgur.com/6CCIwCb.png\" style=\"width:400px\">\n",
    "\n",
    "What does the sentiment score represent? Based on the value of the sentiment score, can you identify if the overall sentiment of the dataset is happy or sad?\n",
    "\n",
    "**Q16c (Optional): Display whether the overall sentiment of the given dataset of tweets is happy or sad, using the sentiment score.**"
   ]
  },
  {
   "cell_type": "code",
   "execution_count": 56,
   "id": "a9658ca8",
   "metadata": {},
   "outputs": [
    {
     "name": "stdout",
     "output_type": "stream",
     "text": [
      "The overall sentiment is happy\n"
     ]
    }
   ],
   "source": [
    "if sentiment_score>0:\n",
    "    print(\"The overall sentiment is happy\")\n",
    "else:\n",
    "    print(\"The overall sentiment is sad\")"
   ]
  },
  {
   "cell_type": "markdown",
   "id": "69ffa49d",
   "metadata": {},
   "source": [
    "Finally, it's also important to track how many tweets are neutral i.e. neither happy nor sad. If a large fraction of tweets are marked neutral, maybe we need to improve our lists of happy and sad words. \n",
    "\n",
    "**Q16d (Optional): What is the fraction of tweets that are neutral i.e. neither happy nor sad.**"
   ]
  },
  {
   "cell_type": "code",
   "execution_count": 59,
   "id": "67cdef8e",
   "metadata": {},
   "outputs": [
    {
     "data": {
      "text/plain": [
       "0.2"
      ]
     },
     "execution_count": 59,
     "metadata": {},
     "output_type": "execute_result"
    }
   ],
   "source": [
    "number_of_neutral_tweets = (number_of_tweets-(number_of_happy_tweets+number_of_sad_tweets))/number_of_tweets\n",
    "number_of_neutral_tweets"
   ]
  },
  {
   "cell_type": "code",
   "execution_count": 60,
   "id": "7b9e759f",
   "metadata": {},
   "outputs": [
    {
     "name": "stdout",
     "output_type": "stream",
     "text": [
      "The fraction of neutral tweets is 0.2\n"
     ]
    }
   ],
   "source": [
    "print('The fraction of neutral tweets is', number_of_neutral_tweets)"
   ]
  },
  {
   "cell_type": "code",
   "execution_count": null,
   "id": "fd39f1c8",
   "metadata": {},
   "outputs": [],
   "source": []
  },
  {
   "cell_type": "code",
   "execution_count": null,
   "id": "2b89a34c",
   "metadata": {},
   "outputs": [],
   "source": []
  }
 ],
 "metadata": {
  "kernelspec": {
   "display_name": "Python 3 (ipykernel)",
   "language": "python",
   "name": "python3"
  },
  "language_info": {
   "codemirror_mode": {
    "name": "ipython",
    "version": 3
   },
   "file_extension": ".py",
   "mimetype": "text/x-python",
   "name": "python",
   "nbconvert_exporter": "python",
   "pygments_lexer": "ipython3",
   "version": "3.10.6"
  }
 },
 "nbformat": 4,
 "nbformat_minor": 5
}
