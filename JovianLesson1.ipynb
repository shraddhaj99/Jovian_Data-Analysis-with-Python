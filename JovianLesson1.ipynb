{
 "cells": [
  {
   "cell_type": "markdown",
   "id": "45546be2",
   "metadata": {},
   "source": [
    "<b> Arithmetic operations"
   ]
  },
  {
   "cell_type": "code",
   "execution_count": 5,
   "id": "828eb971",
   "metadata": {},
   "outputs": [
    {
     "data": {
      "text/plain": [
       "14"
      ]
     },
     "execution_count": 5,
     "metadata": {},
     "output_type": "execute_result"
    }
   ],
   "source": [
    "#addition\n",
    "2+3+9"
   ]
  },
  {
   "cell_type": "code",
   "execution_count": 6,
   "id": "9b476418",
   "metadata": {},
   "outputs": [
    {
     "data": {
      "text/plain": [
       "75"
      ]
     },
     "execution_count": 6,
     "metadata": {},
     "output_type": "execute_result"
    }
   ],
   "source": [
    "#subtraction\n",
    "99-24"
   ]
  },
  {
   "cell_type": "code",
   "execution_count": 7,
   "id": "ac163fbd",
   "metadata": {},
   "outputs": [
    {
     "data": {
      "text/plain": [
       "9.32"
      ]
     },
     "execution_count": 7,
     "metadata": {},
     "output_type": "execute_result"
    }
   ],
   "source": [
    "#multiplication\n",
    "2.33*4"
   ]
  },
  {
   "cell_type": "code",
   "execution_count": 8,
   "id": "61b18edc",
   "metadata": {},
   "outputs": [
    {
     "data": {
      "text/plain": [
       "33.0"
      ]
     },
     "execution_count": 8,
     "metadata": {},
     "output_type": "execute_result"
    }
   ],
   "source": [
    "#division\n",
    "99/3"
   ]
  },
  {
   "cell_type": "code",
   "execution_count": 10,
   "id": "3eae2d97",
   "metadata": {},
   "outputs": [
    {
     "data": {
      "text/plain": [
       "6"
      ]
     },
     "execution_count": 10,
     "metadata": {},
     "output_type": "execute_result"
    }
   ],
   "source": [
    "#integer division\n",
    "33//5"
   ]
  },
  {
   "cell_type": "code",
   "execution_count": 11,
   "id": "2c9ff78f",
   "metadata": {},
   "outputs": [
    {
     "data": {
      "text/plain": [
       "3"
      ]
     },
     "execution_count": 11,
     "metadata": {},
     "output_type": "execute_result"
    }
   ],
   "source": [
    "#Quotient\n",
    "33 % 5 "
   ]
  },
  {
   "cell_type": "code",
   "execution_count": 12,
   "id": "ce189060",
   "metadata": {},
   "outputs": [
    {
     "data": {
      "text/plain": [
       "81"
      ]
     },
     "execution_count": 12,
     "metadata": {},
     "output_type": "execute_result"
    }
   ],
   "source": [
    "#Exponential\n",
    "3** 4"
   ]
  },
  {
   "cell_type": "markdown",
   "id": "8eed7686",
   "metadata": {},
   "source": [
    "### Multistep operations\n",
    "\n",
    "A grocery store sells a bag of ice for $1.25 and makes a 20% profit. If it sells 500 bags of ice, how much total profit does it make?\n",
    "\n",
    "We can list out the information provided and gradually convert the word problem into a mathematical expression that can be evaluated using Python.\n",
    "\n",
    "Cost of ice bag ($) = 1.25\n",
    "\n",
    "Profit margin = 20% = .2\n",
    "\n",
    "Profit per bag ($) = profit margin * cost of ice bag = .2 * 1.25\n",
    "\n",
    "No. of bags = 500\n",
    "\n",
    "Total profit = no. of bags * profit per bag = 500 * (.2 * 1.25)"
   ]
  },
  {
   "cell_type": "code",
   "execution_count": 13,
   "id": "76f4b8c4",
   "metadata": {},
   "outputs": [
    {
     "data": {
      "text/plain": [
       "125.0"
      ]
     },
     "execution_count": 13,
     "metadata": {},
     "output_type": "execute_result"
    }
   ],
   "source": [
    "500 * (0.2*1.25)"
   ]
  },
  {
   "cell_type": "markdown",
   "id": "18604104",
   "metadata": {},
   "source": [
    "Thus, the grocery store makes a total profit of $125. While this is a reasonable way to solve a problem, it's not entirely clear by looking at the code cell what the numbers represent. We can give names to each of the numbers by creating Python variables."
   ]
  },
  {
   "cell_type": "code",
   "execution_count": 14,
   "id": "44bcf5dd",
   "metadata": {},
   "outputs": [],
   "source": [
    "cost_of_ice_bag = 1.25\n",
    "profit_margin = .2\n",
    "number_of_bags = 500"
   ]
  },
  {
   "cell_type": "code",
   "execution_count": 15,
   "id": "729692fa",
   "metadata": {},
   "outputs": [
    {
     "data": {
      "text/plain": [
       "0.2"
      ]
     },
     "execution_count": 15,
     "metadata": {},
     "output_type": "execute_result"
    }
   ],
   "source": [
    "profit_margin"
   ]
  },
  {
   "cell_type": "code",
   "execution_count": 16,
   "id": "0adbf92a",
   "metadata": {},
   "outputs": [],
   "source": [
    "profit_per_bag = cost_of_ice_bag*profit_margin"
   ]
  },
  {
   "cell_type": "code",
   "execution_count": 17,
   "id": "17b8c086",
   "metadata": {},
   "outputs": [
    {
     "data": {
      "text/plain": [
       "0.25"
      ]
     },
     "execution_count": 17,
     "metadata": {},
     "output_type": "execute_result"
    }
   ],
   "source": [
    "profit_per_bag"
   ]
  },
  {
   "cell_type": "code",
   "execution_count": 19,
   "id": "cdbe8894",
   "metadata": {},
   "outputs": [],
   "source": [
    "total_profit = number_of_bags*profit_per_bag"
   ]
  },
  {
   "cell_type": "code",
   "execution_count": 20,
   "id": "04e490c9",
   "metadata": {},
   "outputs": [
    {
     "name": "stdout",
     "output_type": "stream",
     "text": [
      "The grocery store makes a total profit of $ 125.0\n"
     ]
    }
   ],
   "source": [
    "print(\"The grocery store makes a total profit of $\", total_profit)"
   ]
  },
  {
   "cell_type": "markdown",
   "id": "aca7b1f3",
   "metadata": {},
   "source": [
    "Evaluating conditions using Logical operators"
   ]
  },
  {
   "cell_type": "code",
   "execution_count": 21,
   "id": "b22c62cc",
   "metadata": {},
   "outputs": [],
   "source": [
    "my_favorite_number = 1\n",
    "my_least_favorite_number = 5\n",
    "a_neutral_number = 3"
   ]
  },
  {
   "cell_type": "code",
   "execution_count": 22,
   "id": "78dfdb84",
   "metadata": {},
   "outputs": [
    {
     "data": {
      "text/plain": [
       "True"
      ]
     },
     "execution_count": 22,
     "metadata": {},
     "output_type": "execute_result"
    }
   ],
   "source": [
    "#equality_check\n",
    "my_favorite_number == 1"
   ]
  },
  {
   "cell_type": "code",
   "execution_count": 23,
   "id": "062d2c30",
   "metadata": {},
   "outputs": [
    {
     "data": {
      "text/plain": [
       "True"
      ]
     },
     "execution_count": 23,
     "metadata": {},
     "output_type": "execute_result"
    }
   ],
   "source": [
    "# Not equal check - True\n",
    "my_favorite_number != a_neutral_number"
   ]
  },
  {
   "cell_type": "code",
   "execution_count": 24,
   "id": "2ba156f5",
   "metadata": {},
   "outputs": [
    {
     "data": {
      "text/plain": [
       "True"
      ]
     },
     "execution_count": 24,
     "metadata": {},
     "output_type": "execute_result"
    }
   ],
   "source": [
    "# Greater than check - True\n",
    "my_least_favorite_number > a_neutral_number"
   ]
  },
  {
   "cell_type": "code",
   "execution_count": 25,
   "id": "0afb7bf0",
   "metadata": {},
   "outputs": [
    {
     "data": {
      "text/plain": [
       "False"
      ]
     },
     "execution_count": 25,
     "metadata": {},
     "output_type": "execute_result"
    }
   ],
   "source": [
    "# Greater than check - False\n",
    "my_favorite_number > my_least_favorite_number"
   ]
  },
  {
   "cell_type": "code",
   "execution_count": 26,
   "id": "bef8ceef",
   "metadata": {},
   "outputs": [
    {
     "data": {
      "text/plain": [
       "True"
      ]
     },
     "execution_count": 26,
     "metadata": {},
     "output_type": "execute_result"
    }
   ],
   "source": [
    "# Less than check - True\n",
    "my_favorite_number < 10"
   ]
  },
  {
   "cell_type": "code",
   "execution_count": 27,
   "id": "b02a1e03",
   "metadata": {},
   "outputs": [
    {
     "data": {
      "text/plain": [
       "True"
      ]
     },
     "execution_count": 27,
     "metadata": {},
     "output_type": "execute_result"
    }
   ],
   "source": [
    "# Greater than or equal check - True\n",
    "my_favorite_number >= 1"
   ]
  },
  {
   "cell_type": "code",
   "execution_count": 28,
   "id": "e1999c6e",
   "metadata": {},
   "outputs": [
    {
     "data": {
      "text/plain": [
       "False"
      ]
     },
     "execution_count": 28,
     "metadata": {},
     "output_type": "execute_result"
    }
   ],
   "source": [
    "# Less than or equal check - False\n",
    "my_favorite_number + a_neutral_number <= 3"
   ]
  },
  {
   "cell_type": "code",
   "execution_count": 29,
   "id": "14b04f9e",
   "metadata": {},
   "outputs": [
    {
     "name": "stdout",
     "output_type": "stream",
     "text": [
      "Is the ice bag expensive? False\n"
     ]
    }
   ],
   "source": [
    "cost_of_ice_bag = 1.25\n",
    "is_ice_bag_expensive = cost_of_ice_bag >= 10\n",
    "print(\"Is the ice bag expensive?\", is_ice_bag_expensive)"
   ]
  },
  {
   "cell_type": "markdown",
   "id": "f68f3ebc",
   "metadata": {},
   "source": [
    "EXERCISE: A travel company wants to fly a plane to the Bahamas. Flying the plane costs 5000 dollars. So far, 29 people have signed up for the trip. If the company charges 200 dollars per ticket, what is the profit made by the company? Create variables for each numeric quantity and use appropriate arithmetic operations."
   ]
  },
  {
   "cell_type": "code",
   "execution_count": 30,
   "id": "8acc7ab4",
   "metadata": {},
   "outputs": [],
   "source": [
    "plane_cost = 5000\n",
    "num_people = 29\n",
    "ticket_fare = 200"
   ]
  },
  {
   "cell_type": "code",
   "execution_count": 31,
   "id": "e31eb308",
   "metadata": {},
   "outputs": [],
   "source": [
    "income_from_ticket = num_people*ticket_fare"
   ]
  },
  {
   "cell_type": "code",
   "execution_count": 32,
   "id": "f8ae64ea",
   "metadata": {},
   "outputs": [],
   "source": [
    "profit = income_from_ticket - plane_cost"
   ]
  },
  {
   "cell_type": "code",
   "execution_count": 33,
   "id": "08cac5a1",
   "metadata": {},
   "outputs": [
    {
     "name": "stdout",
     "output_type": "stream",
     "text": [
      "The profit gained by the travel company is $ 800\n"
     ]
    }
   ],
   "source": [
    "print(\"The profit gained by the travel company is $\", profit)"
   ]
  }
 ],
 "metadata": {
  "kernelspec": {
   "display_name": "Python 3 (ipykernel)",
   "language": "python",
   "name": "python3"
  },
  "language_info": {
   "codemirror_mode": {
    "name": "ipython",
    "version": 3
   },
   "file_extension": ".py",
   "mimetype": "text/x-python",
   "name": "python",
   "nbconvert_exporter": "python",
   "pygments_lexer": "ipython3",
   "version": "3.10.6"
  }
 },
 "nbformat": 4,
 "nbformat_minor": 5
}
